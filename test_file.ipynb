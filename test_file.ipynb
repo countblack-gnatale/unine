{
 "cells": [
  {
   "cell_type": "code",
   "execution_count": 1,
   "id": "d3cb89f5",
   "metadata": {},
   "outputs": [
    {
     "name": "stdout",
     "output_type": "stream",
     "text": [
      "Hello World !\n"
     ]
    }
   ],
   "source": [
    "print('Hello World !')"
   ]
  },
  {
   "cell_type": "code",
   "execution_count": 10,
   "id": "9bbe4fc4",
   "metadata": {},
   "outputs": [
    {
     "name": "stdout",
     "output_type": "stream",
     "text": [
      "There are 4 vendors.\n",
      "Sony\n",
      "Sega\n",
      "Nintendo\n",
      "Microsoft\n"
     ]
    }
   ],
   "source": [
    "vendor = [\"Sony\", \"Sega\", \"Nintendo\"]\n",
    "vendor.append(\"Microsoft\")\n",
    "num_elements = len(vendor)\n",
    "print (\"There are \"+str(num_elements)+\" vendors.\")\n",
    "for x in vendor:\n",
    "    print(x)"
   ]
  },
  {
   "cell_type": "code",
   "execution_count": null,
   "id": "2eb34d34",
   "metadata": {},
   "outputs": [],
   "source": []
  }
 ],
 "metadata": {
  "kernelspec": {
   "display_name": "Python 3",
   "language": "python",
   "name": "python3"
  },
  "language_info": {
   "codemirror_mode": {
    "name": "ipython",
    "version": 3
   },
   "file_extension": ".py",
   "mimetype": "text/x-python",
   "name": "python",
   "nbconvert_exporter": "python",
   "pygments_lexer": "ipython3",
   "version": "3.7.10"
  }
 },
 "nbformat": 4,
 "nbformat_minor": 5
}
